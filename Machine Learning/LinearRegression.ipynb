{
  "nbformat": 4,
  "nbformat_minor": 0,
  "metadata": {
    "colab": {
      "name": "LinearRegression.ipynb",
      "provenance": [],
      "collapsed_sections": []
    },
    "kernelspec": {
      "name": "python3",
      "display_name": "Python 3"
    }
  },
  "cells": [
    {
      "cell_type": "code",
      "metadata": {
        "id": "hW1HXwdcEbyq"
      },
      "source": [
        "# Linear regression : Linear regression is a basic and commonly used type of predictive analysis.  The overall idea of \n",
        "# regression is to examine two things: (1) does a set of predictor variables do a good job in predicting an outcome \n",
        "# (dependent) variable?  (2) Which variables in particular are significant predictors of the outcome variable, and in \n",
        "# what way do they–indicated by the magnitude and sign of the beta estimates–impact the outcome variable?  These regression estimates \n",
        "# are used to explain the relationship between one dependent variable and one or more independent variables.  The simplest form of the\n",
        "#  regression equation with one dependent and one independent variable is defined by the formula y = c + b*x, where y = estimated dependent\n",
        "#  variable score, c = constant, b = regression coefficient, and x = score on the independent variable.\n",
        "\n",
        "# Linear regression in Python \n",
        "# Step 1: Import packages and classes\n",
        "\n",
        "# The first step is to import the package numpy and the class LinearRegression from sklearn.linear_model:\n",
        "import numpy as np\n",
        "from sklearn.linear_model import LinearRegression"
      ],
      "execution_count": 8,
      "outputs": []
    },
    {
      "cell_type": "code",
      "metadata": {
        "id": "iId_Tit9Emua"
      },
      "source": [
        "# Step 2: Provide data\n",
        "\n",
        "# The second step is defining data to work with. The inputs (regressors, 𝑥) \n",
        "# and output (predictor, 𝑦) should be arrays (the instances of the class numpy.ndarray) or\n",
        "#  similar objects. This is the simplest way of providing data for regression:\n",
        "x = np.array([5, 15, 25, 35, 45, 55]).reshape((-1, 1))\n",
        "y = np.array([5, 20, 14, 32, 22, 38])\n",
        "\n",
        "# Now, you have two arrays: the input x and output y. You should call .reshape() on x because this array \n",
        "# is required to be two-dimensional, or to be more precise, to have one column and as many rows as necessary. \n"
      ],
      "execution_count": 9,
      "outputs": []
    },
    {
      "cell_type": "code",
      "metadata": {
        "id": "ZrHas74EHuib"
      },
      "source": [
        "# Step 3: Create a model and fit it\n",
        "\n",
        "# The next step is to create a linear regression model and fit it using the existing data.\n",
        "\n",
        "# Let’s create an instance of the class LinearRegression, which will represent the regression model:\n",
        "\n",
        "\n",
        "model = LinearRegression()\n",
        "\n",
        "\n",
        "# This statement creates the variable model as the instance of LinearRegression. You can provide several optional parameters to LinearRegression:\n",
        "\n",
        "# fit_intercept is a Boolean (True by default) that decides whether to calculate the intercept 𝑏₀ (True) or consider it equal to zero (False).\n",
        "# normalize is a Boolean (False by default) that decides whether to normalize the input variables (True) or not (False).\n",
        "# copy_X is a Boolean (True by default) that decides whether to copy (True) or overwrite the input variables (False).\n",
        "# n_jobs is an integer or None (default) and represents the number of jobs used in parallel computation. None usually means one job and -1 to use all processors."
      ],
      "execution_count": 10,
      "outputs": []
    },
    {
      "cell_type": "code",
      "metadata": {
        "id": "0CVyLferHzCX",
        "outputId": "78275138-307e-41b1-dbcd-7615fd305742",
        "colab": {
          "base_uri": "https://localhost:8080/"
        }
      },
      "source": [
        "#  Step 3: With .fit(), you calculate the optimal values of the weights 𝑏₀ and 𝑏₁, using the existing input \n",
        "# and output (x and y) as the arguments. In other words, .fit() fits the model. It returns self, which is the variable model itself. \n",
        "model.fit(x, y)"
      ],
      "execution_count": 11,
      "outputs": [
        {
          "output_type": "execute_result",
          "data": {
            "text/plain": [
              "LinearRegression(copy_X=True, fit_intercept=True, n_jobs=None, normalize=False)"
            ]
          },
          "metadata": {
            "tags": []
          },
          "execution_count": 11
        }
      ]
    },
    {
      "cell_type": "code",
      "metadata": {
        "id": "AuIDMb79H1-n",
        "outputId": "8ab06af1-3c1c-4d5b-e774-2994dfaa4d27",
        "colab": {
          "base_uri": "https://localhost:8080/"
        }
      },
      "source": [
        "#  Step 4: Get results\n",
        "\n",
        "# Once you have your model fitted, you can get the results to check whether the model works satisfactorily and interpret it.\n",
        "\n",
        "# You can obtain the coefficient of determination (𝑅²) with .score() called on model:\n",
        "r_sq = model.score(x, y)\n",
        "print('coefficient of determination:', r_sq)"
      ],
      "execution_count": 14,
      "outputs": [
        {
          "output_type": "stream",
          "text": [
            "coefficient of determination: 0.7158756137479542\n"
          ],
          "name": "stdout"
        }
      ]
    },
    {
      "cell_type": "code",
      "metadata": {
        "id": "d79dvs-uH7N5"
      },
      "source": [
        ""
      ],
      "execution_count": null,
      "outputs": []
    }
  ]
}
