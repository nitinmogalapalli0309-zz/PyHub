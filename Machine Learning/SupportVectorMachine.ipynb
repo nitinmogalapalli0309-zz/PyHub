{
  "nbformat": 4,
  "nbformat_minor": 0,
  "metadata": {
    "colab": {
      "name": "SupportVectorMachine.ipynb",
      "provenance": []
    },
    "kernelspec": {
      "name": "python3",
      "display_name": "Python 3"
    }
  },
  "cells": [
    {
      "cell_type": "code",
      "metadata": {
        "id": "6W7kG3zKjFED"
      },
      "source": [
        "# What is the Support Vector Machine\n",
        "# A Support Vector Machine was first introduced in the 1960s and later improvised in the 1990s. \n",
        "# It is a supervised learning machine learning classification algorithm that has become extremely popular \n",
        "# nowadays owing to its extremely efficient results.\n",
        "\n",
        "# An SVM is implemented in a slightly different way than other machine learning algorithms. \n",
        "# It is capable of performing classification, regression and outlier detection.\n",
        "\n",
        "# Support Vector Machine is a discriminative classifier that is formally designed by a separative hyperplane.\n",
        "#  It is a representation of examples as points in space that are mapped so that the points of different categories are separated by a gap as wide as possible. \n",
        "# In addition to this, an SVM can also perform non-linear classification. Let us take a look at how the Support Vector Machine work."
      ],
      "execution_count": 8,
      "outputs": []
    },
    {
      "cell_type": "code",
      "metadata": {
        "id": "2491hGXthBsP",
        "outputId": "bf55198d-8133-4177-e472-6d2bdc54846d",
        "colab": {
          "base_uri": "https://localhost:8080/"
        }
      },
      "source": [
        "# STEP 1: Loading The Data\n",
        "\n",
        "# We are using the cancer data-set in the sklearn library, we will make a classifier to predict whether the cancer is malignant or benign. We can load the data-set in the following manner.\n",
        "\n",
        "from sklearn import datasets\n",
        " \n",
        "cancer_data = datasets.load_breast_cancer()\n",
        "print(cancer_data.data[5])"
      ],
      "execution_count": 9,
      "outputs": [
        {
          "output_type": "stream",
          "text": [
            "[1.245e+01 1.570e+01 8.257e+01 4.771e+02 1.278e-01 1.700e-01 1.578e-01\n",
            " 8.089e-02 2.087e-01 7.613e-02 3.345e-01 8.902e-01 2.217e+00 2.719e+01\n",
            " 7.510e-03 3.345e-02 3.672e-02 1.137e-02 2.165e-02 5.082e-03 1.547e+01\n",
            " 2.375e+01 1.034e+02 7.416e+02 1.791e-01 5.249e-01 5.355e-01 1.741e-01\n",
            " 3.985e-01 1.244e-01]\n"
          ],
          "name": "stdout"
        }
      ]
    },
    {
      "cell_type": "code",
      "metadata": {
        "id": "iQrBjDuLhNAf",
        "outputId": "548d72c1-6d60-404e-9b70-533508753cd2",
        "colab": {
          "base_uri": "https://localhost:8080/"
        }
      },
      "source": [
        "print(cancer_data.data.shape)\n"
      ],
      "execution_count": 10,
      "outputs": [
        {
          "output_type": "stream",
          "text": [
            "(569, 30)\n"
          ],
          "name": "stdout"
        }
      ]
    },
    {
      "cell_type": "code",
      "metadata": {
        "id": "GcUu4SDzirjC"
      },
      "source": [
        "#STEP 2: Splitting Data\n",
        "\n",
        "# We will divide the data-set into a training set and test set to get accurate results. After this, we will split the data using the train_test_split() function. \n",
        "# We will need 3 parameters like in the example below. The features to train the model, the target, and the test set size.\n",
        "\n",
        "from sklearn.model_selection import train_test_split\n",
        " \n",
        "cancer_data = datasets.load_breast_cancer()\n",
        " \n",
        "X_train, X_test, y_train, y_test = train_test_split(cancer_data.data, cancer_data.target, test_size=0.4,random_state=109)\n"
      ],
      "execution_count": 11,
      "outputs": []
    },
    {
      "cell_type": "code",
      "metadata": {
        "id": "Mf4KXAj5iznS"
      },
      "source": [
        "# STEP 3: Generating The Model\n",
        "\n",
        "# To generate the model, we will first import the SVM module from sklearn to create a support vector classifier in svc() by passing the argument kernel as the linear kernel.\n",
        "\n",
        "# Then we will train the data-set using the set() and make predictions using the predict() function.\n",
        "\n",
        "from sklearn import svm\n",
        "#create a classifier\n",
        "cls = svm.SVC(kernel=\"linear\")\n",
        "#train the model\n",
        "cls.fit(X_train,y_train)\n",
        "#predict the response\n",
        "pred = cls.predict(X_test)"
      ],
      "execution_count": 12,
      "outputs": []
    },
    {
      "cell_type": "code",
      "metadata": {
        "id": "u7SFrBm8i2pG",
        "outputId": "bed0fc1f-39ef-4414-9f3c-c1d00f431e5d",
        "colab": {
          "base_uri": "https://localhost:8080/"
        }
      },
      "source": [
        "# STEP 4: Evaluating the Model\n",
        "# With this, we can predict how accurately the model or classifier can predict if the patient has heart disease or not.\n",
        "#  So we will calculate the accuracy score, recall, and precision for our evaluation.\n",
        "\n",
        "from sklearn import metrics\n",
        "#accuracy\n",
        "print(\"acuracy:\", metrics.accuracy_score(y_test,y_pred=pred))\n",
        "#precision score\n",
        "print(\"precision:\", metrics.precision_score(y_test,y_pred=pred))\n",
        "#recall score\n",
        "print(\"recall\" , metrics.recall_score(y_test,y_pred=pred))\n",
        "print(metrics.classification_report(y_test, y_pred=pred))"
      ],
      "execution_count": 13,
      "outputs": [
        {
          "output_type": "stream",
          "text": [
            "acuracy: 0.9649122807017544\n",
            "precision: 0.9642857142857143\n",
            "recall 0.9782608695652174\n",
            "              precision    recall  f1-score   support\n",
            "\n",
            "           0       0.97      0.94      0.96        90\n",
            "           1       0.96      0.98      0.97       138\n",
            "\n",
            "    accuracy                           0.96       228\n",
            "   macro avg       0.97      0.96      0.96       228\n",
            "weighted avg       0.96      0.96      0.96       228\n",
            "\n"
          ],
          "name": "stdout"
        }
      ]
    },
    {
      "cell_type": "code",
      "metadata": {
        "id": "8w0v6aA1i6O5"
      },
      "source": [
        ""
      ],
      "execution_count": null,
      "outputs": []
    }
  ]
}