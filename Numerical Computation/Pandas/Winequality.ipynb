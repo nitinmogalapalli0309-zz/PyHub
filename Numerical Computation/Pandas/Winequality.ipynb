{
  "nbformat": 4,
  "nbformat_minor": 0,
  "metadata": {
    "colab": {
      "name": "Winequality.ipynb",
      "provenance": [],
      "collapsed_sections": []
    },
    "kernelspec": {
      "name": "python3",
      "display_name": "Python 3"
    }
  },
  "cells": [
    {
      "cell_type": "markdown",
      "metadata": {
        "id": "KDwA9C448OO7",
        "colab_type": "text"
      },
      "source": [
        "Wine Quality data set : Based upon the count of the column values of the quality of wine compute the bar plot with the various quality labels on x axis and their frequency values on y axis "
      ]
    },
    {
      "cell_type": "code",
      "metadata": {
        "id": "R1l1jK4D8JDa",
        "colab_type": "code",
        "colab": {}
      },
      "source": [
        "from google.colab import drive\n",
        "drive.mount('/content/drive',force_remount = True)"
      ],
      "execution_count": null,
      "outputs": []
    },
    {
      "cell_type": "code",
      "metadata": {
        "id": "6E8Lxspu8UIW",
        "colab_type": "code",
        "colab": {
          "base_uri": "https://localhost:8080/",
          "height": 292
        },
        "outputId": "5859e6c4-de21-4036-fec2-cae5db20cf4a"
      },
      "source": [
        "import pandas\n",
        "import matplotlib.pyplot as graph\n",
        "\n",
        "df = pandas.read_csv('/content/drive/My Drive/Datasets/winequality.csv')\n",
        "\n",
        "freq = df['quality'].value_counts()\n",
        "freq.plot(kind=\"bar\")\n",
        "graph.title(\"Wine Quality\")\n",
        "graph.xlabel(\"Quality\")\n",
        "graph.ylabel(\"Frequency\")\n",
        "graph.show()"
      ],
      "execution_count": 30,
      "outputs": [
        {
          "output_type": "display_data",
          "data": {
            "image/png": "[encoded data removed]",
            "text/plain": [
              "<Figure size 432x288 with 1 Axes>"
            ]
          },
          "metadata": {
            "tags": [],
            "needs_background": "light"
          }
        }
      ]
    }
  ]
}